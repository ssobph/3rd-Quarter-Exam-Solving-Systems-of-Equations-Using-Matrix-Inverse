{
  "nbformat": 4,
  "nbformat_minor": 0,
  "metadata": {
    "colab": {
      "provenance": []
    },
    "kernelspec": {
      "name": "python3",
      "display_name": "Python 3"
    },
    "language_info": {
      "name": "python"
    }
  },
  "cells": [
    {
      "cell_type": "code",
      "execution_count": 10,
      "metadata": {
        "colab": {
          "base_uri": "https://localhost:8080/"
        },
        "id": "ZImjcW315p8D",
        "outputId": "3ff3a3a3-1d75-4717-bc6f-605740ce43c7"
      },
      "outputs": [
        {
          "output_type": "stream",
          "name": "stdout",
          "text": [
            "Solution (x1, x2, x3): [2.64102564 1.61538462 1.8974359 ]\n"
          ]
        }
      ],
      "source": [
        "import numpy as np\n",
        "\n",
        "# Coefficient matrix (A)\n",
        "A = np.array([\n",
        "    [2, 1, -1],\n",
        "    [-1, 3, 2],\n",
        "    [1, -2, 4]\n",
        "])\n",
        "\n",
        "# Constant matrix (B)\n",
        "B = np.array([5, 6, 7])\n",
        "\n",
        "# Solve using matrix inversion\n",
        "A_inv = np.linalg.inv(A)\n",
        "X = np.dot(A_inv, B)\n",
        "\n",
        "print(\"Solution (x1, x2, x3):\", X)\n"
      ]
    },
    {
      "cell_type": "code",
      "source": [
        "# Coefficient matrix (A)\n",
        "A = np.array([\n",
        "    [5, 3, 1, 1, 0],\n",
        "    [4, 6, 2, 0, 1],\n",
        "    [2, 7, 3, 1, 0],\n",
        "    [1, 2, 4, 5, 0],\n",
        "    [3, 4, 5, 0, 6]\n",
        "])\n",
        "\n",
        "# Constant matrix (B)\n",
        "B = np.array([200, 300, 150, 120, 250])\n",
        "\n",
        "# Solve using matrix inversion\n",
        "A_inv = np.linalg.inv(A)\n",
        "X = np.dot(A_inv, B)\n",
        "\n",
        "print(\"Solution (x1, x2, x3, x4, x5):\", X)\n"
      ],
      "metadata": {
        "colab": {
          "base_uri": "https://localhost:8080/"
        },
        "id": "X1ij48W65rae",
        "outputId": "c2bdc723-6b29-4819-e29f-85a6ef187403"
      },
      "execution_count": 11,
      "outputs": [
        {
          "output_type": "stream",
          "name": "stdout",
          "text": [
            "Solution (x1, x2, x3, x4, x5): [ -23.86666667  137.6        -336.          242.53333333  241.86666667]\n"
          ]
        }
      ]
    },
    {
      "cell_type": "code",
      "source": [
        "# Coefficient matrix (A)\n",
        "A = np.array([\n",
        "    [2, 3, -1, 1, -2, 1, 1],\n",
        "    [1, -2, 4, -1, 1, -1, 2],\n",
        "    [3, 1, 2, -1, -1, 1, -1],\n",
        "    [1, -1, -1, 1, 1, 2, -1],\n",
        "    [2, 2, -3, -1, 4, -1, 1],\n",
        "    [-1, 3, 1, 2, -2, 1, -3],\n",
        "    [1, -1, 1, 1, 2, -1, 3]\n",
        "])\n",
        "\n",
        "# Constant matrix (B)\n",
        "B = np.array([5, 10, 15, 20, 25, 30, 35])\n",
        "\n",
        "# Solve using matrix inversion\n",
        "A_inv = np.linalg.inv(A)\n",
        "X = np.dot(A_inv, B)\n",
        "\n",
        "print(\"Solution (x1 to x7):\", X)\n"
      ],
      "metadata": {
        "colab": {
          "base_uri": "https://localhost:8080/"
        },
        "id": "Sr2cxN8r5xkA",
        "outputId": "a8aaf153-69b6-42e1-fa41-839ea51c7db5"
      },
      "execution_count": 12,
      "outputs": [
        {
          "output_type": "stream",
          "name": "stdout",
          "text": [
            "Solution (x1 to x7): [ 1.21015138e+01  1.78094390e-02  3.89136242e+00  1.90605521e+01\n",
            "  7.15048976e+00 -1.15093500e+01 -8.61531612e+00]\n"
          ]
        }
      ]
    },
    {
      "source": [
        "# Coefficient matrix (A)\n",
        "A = np.array([\n",
        "    [3, 1, -2, 1, 1],\n",
        "    [2, -1, 1, -1, 3],\n",
        "    [1, 3, 1, 1, -2],\n",
        "    [-2, 1, 4, 1, 1],\n",
        "    [1, -1, 1, -2, 4]\n",
        "])\n",
        "\n",
        "# Constant matrix (B)\n",
        "B = np.array([50, 60, 70, 80, 90])\n",
        "\n",
        "# Solve using matrix inversion\n",
        "A_inv = np.linalg.inv(A)\n",
        "X = np.dot(A_inv, B)\n",
        "\n",
        "print(\"Solution (x1 to x5):\", X)\n"
      ],
      "cell_type": "code",
      "metadata": {
        "colab": {
          "base_uri": "https://localhost:8080/"
        },
        "id": "ErgGTFBc6EFy",
        "outputId": "d64c86a8-e1eb-4064-fa6a-602f1d62d31d"
      },
      "execution_count": 13,
      "outputs": [
        {
          "output_type": "stream",
          "name": "stdout",
          "text": [
            "Solution (x1 to x5): [ 3.68421053 38.94736842  8.07017544 -8.77192982 24.9122807 ]\n"
          ]
        }
      ]
    },
    {
      "cell_type": "code",
      "source": [
        "def solve_system(A, B):\n",
        "    # Check if matrix is invertible\n",
        "    if np.linalg.det(A) == 0:\n",
        "        print(\"Matrix is singular and cannot be inverted!\")\n",
        "        return None\n",
        "    # Solve using matrix inversion\n",
        "    A_inv = np.linalg.inv(A)\n",
        "    X = np.dot(A_inv, B)\n",
        "    return X\n",
        "\n",
        "# Example usage for Problem 2\n",
        "A = np.array([\n",
        "    [5, 3, 1, 1, 0],\n",
        "    [4, 6, 2, 0, 1],\n",
        "    [2, 7, 3, 1, 0],\n",
        "    [1, 2, 4, 5, 0],\n",
        "    [3, 4, 5, 0, 6]\n",
        "])\n",
        "B = np.array([200, 300, 150, 120, 250])\n",
        "solution = solve_system(A, B)\n",
        "print(\"Solution:\", solution)\n"
      ],
      "metadata": {
        "colab": {
          "base_uri": "https://localhost:8080/"
        },
        "id": "fX5LwLVo8dSf",
        "outputId": "19d4a3bc-02e1-4316-8cbb-0755e5cad013"
      },
      "execution_count": 14,
      "outputs": [
        {
          "output_type": "stream",
          "name": "stdout",
          "text": [
            "Solution: [ -23.86666667  137.6        -336.          242.53333333  241.86666667]\n"
          ]
        }
      ]
    }
  ]
}